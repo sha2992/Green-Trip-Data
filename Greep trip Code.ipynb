{
 "cells": [
  {
   "cell_type": "markdown",
   "metadata": {},
   "source": [
    "# Data Loading and Preparation"
   ]
  },
  {
   "cell_type": "markdown",
   "metadata": {},
   "source": [
    "Please uncomment (remove #) and run the following cell to get the necessary module to run the entire code "
   ]
  },
  {
   "cell_type": "code",
   "execution_count": null,
   "metadata": {},
   "outputs": [],
   "source": [
    "# !pip install numpy\n",
    "# !pip install pandas\n",
    "# !pip install matplotlib\n",
    "# !pip install seaborn\n",
    "# !pip install plotly\n",
    "# !pip install scipy\n",
    "# !pip install scikit-learn"
   ]
  },
  {
   "cell_type": "code",
   "execution_count": null,
   "metadata": {},
   "outputs": [],
   "source": [
    "import numpy as np\n",
    "import pandas as pd\n",
    "import matplotlib.pyplot as plt\n",
    "import seaborn as sns\n",
    "import plotly.express as px\n",
    "import scipy.stats as stats"
   ]
  },
  {
   "cell_type": "code",
   "execution_count": null,
   "metadata": {},
   "outputs": [],
   "source": [
    "df = pd.read_csv('green_tripdata_2015-09.csv')\n",
    "\n",
    "df.head()"
   ]
  },
  {
   "cell_type": "code",
   "execution_count": null,
   "metadata": {},
   "outputs": [],
   "source": [
    "df.columns"
   ]
  },
  {
   "cell_type": "code",
   "execution_count": null,
   "metadata": {},
   "outputs": [],
   "source": [
    "# This column's name has a space at the end of it, so changing the name\n",
    "\n",
    "df.rename({'Trip_type ':'Trip_type'},axis=1,inplace=True)"
   ]
  },
  {
   "cell_type": "code",
   "execution_count": null,
   "metadata": {},
   "outputs": [],
   "source": [
    "print('Number of rows: ', df.shape[0])\n",
    "print('Number of columns: ', df.shape[1])"
   ]
  },
  {
   "cell_type": "code",
   "execution_count": null,
   "metadata": {},
   "outputs": [],
   "source": [
    "df.info()"
   ]
  },
  {
   "cell_type": "markdown",
   "metadata": {},
   "source": [
    "- Most of the columns are numeric in type\n",
    "- E_hail_fee column has no not null value"
   ]
  },
  {
   "cell_type": "code",
   "execution_count": null,
   "metadata": {},
   "outputs": [],
   "source": [
    "# Checking null values in different columns\n",
    "\n",
    "df.isnull().sum()"
   ]
  },
  {
   "cell_type": "markdown",
   "metadata": {},
   "source": [
    "Ehail_fee is a column that has no not null value, all 1494926 rows are null"
   ]
  },
  {
   "cell_type": "code",
   "execution_count": null,
   "metadata": {},
   "outputs": [],
   "source": [
    "# dropping Ehail_fee column\n",
    "\n",
    "df.drop('Ehail_fee', axis=1,inplace=True)"
   ]
  },
  {
   "cell_type": "code",
   "execution_count": null,
   "metadata": {},
   "outputs": [],
   "source": [
    "# replacing Trip_type column's null value with a central tendancy value, using mode as this column seems a categorial one\n",
    "\n",
    "r_null_trip = df[df['Trip_type'].isnull()]\n",
    "\n",
    "null_replace_mode = df[df['VendorID'].isin(r_null_trip['VendorID']) \n",
    "   & df['Store_and_fwd_flag'].isin(r_null_trip['Store_and_fwd_flag']) \n",
    "   & df['Payment_type'].isin(r_null_trip['Payment_type'])]['Trip_type'].mode()[0]\n",
    "\n",
    "df['Trip_type'].fillna(null_replace_mode, inplace=True)"
   ]
  },
  {
   "cell_type": "code",
   "execution_count": null,
   "metadata": {},
   "outputs": [],
   "source": [
    "df.isna().sum()"
   ]
  },
  {
   "cell_type": "markdown",
   "metadata": {},
   "source": [
    "No column has null value now"
   ]
  },
  {
   "cell_type": "code",
   "execution_count": null,
   "metadata": {},
   "outputs": [],
   "source": [
    "# Fare amount should not be 0, so dropping those rows\n",
    "\n",
    "df = df.drop(df[df['Fare_amount']==0].index)"
   ]
  },
  {
   "cell_type": "code",
   "execution_count": null,
   "metadata": {},
   "outputs": [],
   "source": [
    "# Trip distance also should be greater than 0\n",
    "\n",
    "df = df.drop(df[df['Trip_distance']==0].index)"
   ]
  },
  {
   "cell_type": "code",
   "execution_count": null,
   "metadata": {},
   "outputs": [],
   "source": [
    "#Converting some columns that are seems to be categorical in nature \n",
    "\n",
    "df[['VendorID', 'RateCodeID', 'Payment_type', 'Trip_type']] = df[['VendorID', 'RateCodeID', 'Payment_type','Trip_type']].astype(str)"
   ]
  },
  {
   "cell_type": "code",
   "execution_count": null,
   "metadata": {},
   "outputs": [],
   "source": [
    "# Outliers in different numeric columns \n",
    "\n",
    "for column in df.select_dtypes(include=['number']).columns:\n",
    "        q1 = df[column].quantile(0.25)\n",
    "        q3 = df[column].quantile(0.75)\n",
    "        iqr = q3 - q1\n",
    "        lower_range = q1 - 1.5 * iqr\n",
    "        upper_range = q3 + 1.5 * iqr\n",
    "        print('Outlier in ' +column+  ' ' , df[(df[column] < lower_range) | (df[column] > upper_range)].shape[0])"
   ]
  },
  {
   "cell_type": "code",
   "execution_count": null,
   "metadata": {},
   "outputs": [],
   "source": [
    "# Droping Outliers\n",
    "\n",
    "def outliersDetect(df):\n",
    "    for column in df.select_dtypes(include=['number']).columns:\n",
    "        q1 = df[column].quantile(0.25)\n",
    "        q3 = df[column].quantile(0.75)\n",
    "        iqr = q3 - q1\n",
    "        lower_range = q1 - 1.5 * iqr\n",
    "        upper_range = q3 + 1.5 * iqr\n",
    "        outliers_in_column = df[(df[column] > lower_range) & (df[column] < upper_range)]\n",
    "    \n",
    "    return outliers_in_column\n",
    "\n",
    "df_cleaned = outliersDetect(df)"
   ]
  },
  {
   "cell_type": "code",
   "execution_count": null,
   "metadata": {},
   "outputs": [],
   "source": [
    "print('After cleaning Data')\n",
    "print('Number of rows: ', df_cleaned.shape[0])\n",
    "print('Number of columns: ', df_cleaned.shape[1])"
   ]
  },
  {
   "cell_type": "code",
   "execution_count": null,
   "metadata": {},
   "outputs": [],
   "source": [
    "# Check for duplicates\n",
    "\n",
    "df_cleaned[df_cleaned.duplicated()]"
   ]
  },
  {
   "cell_type": "code",
   "execution_count": null,
   "metadata": {},
   "outputs": [],
   "source": [
    "# converting date type columns into datetime\n",
    "\n",
    "df_cleaned['lpep_pickup_datetime']=pd.to_datetime(df_cleaned['lpep_pickup_datetime'])\n",
    "df_cleaned['Lpep_dropoff_datetime']=pd.to_datetime(df_cleaned['Lpep_dropoff_datetime'])"
   ]
  },
  {
   "cell_type": "markdown",
   "metadata": {},
   "source": [
    "# Trip Distance"
   ]
  },
  {
   "cell_type": "code",
   "execution_count": null,
   "metadata": {},
   "outputs": [],
   "source": [
    "df_cleaned['Trip_distance'].describe()"
   ]
  },
  {
   "cell_type": "code",
   "execution_count": null,
   "metadata": {},
   "outputs": [],
   "source": [
    "bins = [0, 3, 6, 9, 12, 15,18]\n",
    "\n",
    "fig = px.histogram(df_cleaned \n",
    "                   , x='Trip_distance'\n",
    "                   , title='Trip Distance Distribution'\n",
    "                   , text_auto=True\n",
    "                   )\n",
    "\n",
    "fig.update_traces(xbins=dict(start=0, end=18, size=3))\n",
    "fig.update_layout(bargap=0.2, title=dict(x=0.5,xanchor='center')\n",
    "                  , xaxis_title = 'Trip Distance'\n",
    "                  , xaxis=dict(tickvals=bins, range=[0, 18]) \n",
    "                  , yaxis_title = 'Number of Trips' \n",
    "                  )\n",
    "\n",
    "fig.show()"
   ]
  },
  {
   "cell_type": "markdown",
   "metadata": {},
   "source": [
    "It seems that less distance trip (0-3 miles) had been made much higher than any other trip distance. Long distance (over 10 miles) trip had low in number. "
   ]
  },
  {
   "cell_type": "markdown",
   "metadata": {},
   "source": [
    "Hypothesis test:\n",
    "    Under 95% confidence level, number of trips completed had distance less than 5\n",
    "\n",
    "    Null Hypothsis:\n",
    "        Trips completed had distance level more or equal to 5\n",
    "    Alternate Hypothesis:\n",
    "        Trips completed had distance less than 5"
   ]
  },
  {
   "cell_type": "code",
   "execution_count": null,
   "metadata": {},
   "outputs": [],
   "source": [
    "# Calculating z value\n",
    "\n",
    "alpha = round((1- 0.95),2)\n",
    "\n",
    "sample_mean = df_cleaned['Trip_distance'].mean()\n",
    "hypo_mean = 5\n",
    "standard_error = np.std(df_cleaned['Trip_distance'],ddof=1)\n",
    "\n",
    "z_value = (sample_mean - hypo_mean) / standard_error\n",
    "# z_value"
   ]
  },
  {
   "cell_type": "code",
   "execution_count": null,
   "metadata": {},
   "outputs": [],
   "source": [
    "z_critical_value = stats.norm.ppf(alpha)\n",
    "# z_critical_value"
   ]
  },
  {
   "cell_type": "code",
   "execution_count": null,
   "metadata": {},
   "outputs": [],
   "source": [
    "if z_value <  z_critical_value:\n",
    "    print(\"Reject the null hypothesis\")\n",
    "else:\n",
    "  print(\"Fail to reject the null hypothesis\")"
   ]
  },
  {
   "cell_type": "markdown",
   "metadata": {},
   "source": [
    "So, under 95% confidence level number of trips made had not distance less than 5 "
   ]
  },
  {
   "cell_type": "code",
   "execution_count": null,
   "metadata": {},
   "outputs": [],
   "source": [
    "# To work with hour and day segmenting date time in respective columns\n",
    "\n",
    "df_cleaned['pickup_hour'] = df_cleaned['lpep_pickup_datetime'].dt.hour\n",
    "df_cleaned['dropoff_hour'] = df_cleaned['Lpep_dropoff_datetime'].dt.hour\n",
    "df_cleaned['week_day'] = df_cleaned['lpep_pickup_datetime'].dt.dayofweek"
   ]
  },
  {
   "cell_type": "code",
   "execution_count": null,
   "metadata": {},
   "outputs": [],
   "source": [
    "pickup_hour_grouped_central = df_cleaned.groupby('pickup_hour')['Trip_distance'].agg(Total='count',Mean=np.mean,Median = np.median).reset_index()"
   ]
  },
  {
   "cell_type": "code",
   "execution_count": null,
   "metadata": {},
   "outputs": [],
   "source": [
    "fig1 = px.bar(pickup_hour_grouped_central\n",
    "              , x='pickup_hour'\n",
    "              , y='Mean'\n",
    "              , title='Mean Trip Distance by Pick up Hour of the Day'\n",
    "              , text_auto=True\n",
    "              )\n",
    "\n",
    "fig1.update_layout(xaxis_title='Hour of the Day'\n",
    "                   , xaxis=dict(dtick=1)\n",
    "                   , yaxis_title='Mean Trip Distance'\n",
    "                   , title=dict(x=0.5, xanchor='center')\n",
    "                   )\n",
    "\n",
    "fig1.show()"
   ]
  },
  {
   "cell_type": "markdown",
   "metadata": {},
   "source": [
    "5th and 6th hour of the day has more average trip distance (over 3 miles). 5th hour has the highest"
   ]
  },
  {
   "cell_type": "code",
   "execution_count": null,
   "metadata": {},
   "outputs": [],
   "source": [
    "fig2 = px.bar(pickup_hour_grouped_central\n",
    "              , x='pickup_hour'\n",
    "              , y='Median'\n",
    "              , title='Median Trip Distance by Pick up Hour of the Day'\n",
    "              , text_auto=True\n",
    "              )\n",
    "\n",
    "fig2.update_layout(xaxis_title='Hour of the Day'\n",
    "                   , yaxis_title='Median Trip Distance'\n",
    "                   , xaxis=dict(dtick=1)\n",
    "                   , title=dict(x=0.5, xanchor='center')\n",
    "                   )\n",
    "\n",
    "fig2.show()"
   ]
  },
  {
   "cell_type": "markdown",
   "metadata": {},
   "source": [
    "Similar to average value, median of trip distance was higher in 5th and 6th hour of the day, and 5th hour has the highest"
   ]
  },
  {
   "cell_type": "code",
   "execution_count": null,
   "metadata": {},
   "outputs": [],
   "source": [
    "fig3 = px.line(pickup_hour_grouped_central\n",
    "               , x='pickup_hour'\n",
    "               , y=['Mean', 'Median']\n",
    "               , title = 'Mean and Median of Trip Distance by Pick up Hour of the Day'\n",
    "               , markers=True\n",
    ")\n",
    "\n",
    "fig3.update_layout(xaxis_title = 'Hour of the Day'\n",
    "                   , xaxis=dict(dtick=1)\n",
    "                   , yaxis_title = 'Trip Distance'\n",
    "                   , title=dict(x=0.5, xanchor='center'))\n",
    "\n",
    "fig3.show()"
   ]
  },
  {
   "cell_type": "markdown",
   "metadata": {},
   "source": [
    "Mean and median trip distance follow the similar trend. Median is lesser than mean"
   ]
  },
  {
   "cell_type": "code",
   "execution_count": null,
   "metadata": {},
   "outputs": [],
   "source": [
    "dropoff_hour_grouped_central = df_cleaned.groupby('dropoff_hour')['Trip_distance'].agg(Total='count',Mean=np.mean,Median = np.median).reset_index()"
   ]
  },
  {
   "cell_type": "code",
   "execution_count": null,
   "metadata": {},
   "outputs": [],
   "source": [
    "fig4 = px.bar(dropoff_hour_grouped_central\n",
    "              , x='dropoff_hour'\n",
    "              , y='Mean'\n",
    "              , title='Mean Trip Distance by Drop of Hour of the Day'\n",
    "              , text_auto=True\n",
    "              )\n",
    "\n",
    "fig4.update_layout(xaxis_title='Hour of the Day'\n",
    "                   , yaxis_title='Mean Trip Distance'\n",
    "                   , xaxis=dict(dtick=1)\n",
    "                   , title=dict(x=0.5, xanchor='center')\n",
    "                   )\n",
    "\n",
    "fig4.show()"
   ]
  },
  {
   "cell_type": "code",
   "execution_count": null,
   "metadata": {},
   "outputs": [],
   "source": [
    "fig5 = px.line(dropoff_hour_grouped_central\n",
    "               , x='dropoff_hour'\n",
    "               , y=['Mean', 'Median']\n",
    "               , title = 'Mean and Median of Trip Distance by Drop off Hour of the Day'\n",
    "               , markers=True\n",
    ")\n",
    "\n",
    "fig5.update_layout(xaxis_title = 'Hour of the Day'\n",
    "                   , yaxis_title = 'Trip Distance'\n",
    "                   , xaxis=dict(dtick=1)\n",
    "                   , title=dict(x=0.5, xanchor='center'))\n",
    "\n",
    "fig5.show()"
   ]
  },
  {
   "cell_type": "markdown",
   "metadata": {},
   "source": [
    "Similar to pickup hour drop off hour has highest average trip distance in 5th hour and its mean - median are in similar trend"
   ]
  },
  {
   "cell_type": "code",
   "execution_count": null,
   "metadata": {},
   "outputs": [],
   "source": [
    "pick_drop_mean_median = pd.merge(pickup_hour_grouped_central, dropoff_hour_grouped_central,\n",
    "                                 left_on='pickup_hour', right_on='dropoff_hour',\n",
    "                                 suffixes=['_pickup','_dropoff']\n",
    "                                 )"
   ]
  },
  {
   "cell_type": "code",
   "execution_count": null,
   "metadata": {},
   "outputs": [],
   "source": [
    "fig6 = px.line(pick_drop_mean_median\n",
    "               , x='pickup_hour'\n",
    "               , y=['Mean_pickup', 'Mean_dropoff']\n",
    "               , title='Mean Trip Distance by Pickup and Dropoff Hour'\n",
    "               , markers=True)\n",
    "\n",
    "fig6.update_layout(xaxis_title='Hour of the Day'\n",
    "                   , xaxis=dict(dtick=1)\n",
    "                   , yaxis_title='Mean Trip Distance'\n",
    "                   , title=dict(x=0.5, xanchor='center')\n",
    ")\n",
    "\n",
    "fig6.show()"
   ]
  },
  {
   "cell_type": "markdown",
   "metadata": {},
   "source": [
    "Mean trip distance by pickup and dropoff hour is quite identical"
   ]
  },
  {
   "cell_type": "code",
   "execution_count": null,
   "metadata": {},
   "outputs": [],
   "source": [
    "pickup_day_grouped_central = df_cleaned.groupby(['week_day','pickup_hour'])['Trip_distance'].agg(Mean=np.mean).reset_index()"
   ]
  },
  {
   "cell_type": "code",
   "execution_count": null,
   "metadata": {},
   "outputs": [],
   "source": [
    "fig7 = px.line(pickup_day_grouped_central\n",
    "               , x='pickup_hour'\n",
    "               , y='Mean'\n",
    "               , title = 'Average Trip Distance by Hour in different Day'\n",
    "               , color = 'week_day'\n",
    "               , markers=True\n",
    ")\n",
    "\n",
    "fig7.update_layout(xaxis_title = 'Hour of the Day'\n",
    "                   , yaxis_title = 'Trip Distance'\n",
    "                   , xaxis=dict(dtick=1)\n",
    "                   , title=dict(x=0.5, xanchor='center'))\n",
    "\n",
    "fig7.show()"
   ]
  },
  {
   "cell_type": "markdown",
   "metadata": {},
   "source": [
    "- Week day 6 has highest average trip distance in most of the hour (apart from 4th, 5th, 22nd hour)\n",
    "- On week day 2 5th hour has highest average trip distance\n",
    "- Most of the day see a fall of trip distance after 6th hour to at least around 11th hour "
   ]
  },
  {
   "cell_type": "code",
   "execution_count": null,
   "metadata": {},
   "outputs": [],
   "source": [
    "Vendor_pickup = df_cleaned.groupby(['VendorID','pickup_hour'])['Trip_distance'].agg(Mean=np.mean).reset_index()"
   ]
  },
  {
   "cell_type": "code",
   "execution_count": null,
   "metadata": {},
   "outputs": [],
   "source": [
    "fig8 = px.line(Vendor_pickup\n",
    "               , x='pickup_hour'\n",
    "               , y='Mean'\n",
    "               , title = 'Average Trip Distance in Hour by different Vendors'\n",
    "               , color = 'VendorID'\n",
    "               , markers=True\n",
    ")\n",
    "\n",
    "fig8.update_layout(xaxis_title = 'Hour of the Day'\n",
    "                   , yaxis_title = 'Trip Distance'\n",
    "                   , xaxis=dict(dtick=1)\n",
    "                   , title=dict(x=0.5, xanchor='center'))\n",
    "\n",
    "fig8.show()"
   ]
  },
  {
   "cell_type": "markdown",
   "metadata": {},
   "source": [
    "Vendor 2 has higher average trip distance than Vendor 1 in most of the hour of the day"
   ]
  },
  {
   "cell_type": "code",
   "execution_count": null,
   "metadata": {},
   "outputs": [],
   "source": [
    "Vendor_fare = df_cleaned.groupby(['VendorID','pickup_hour'])['Fare_amount'].agg(Mean=np.mean).reset_index()"
   ]
  },
  {
   "cell_type": "code",
   "execution_count": null,
   "metadata": {},
   "outputs": [],
   "source": [
    "fig9 = px.line(Vendor_fare\n",
    "               , x='pickup_hour'\n",
    "               , y='Mean'\n",
    "               , title = 'Average Fare in Hour by different Vendors'\n",
    "               , color = 'VendorID'\n",
    "               , markers=True)\n",
    "\n",
    "fig9.update_layout(xaxis_title = 'Hour of the Day'\n",
    "                   , xaxis=dict(dtick=1)\n",
    "                   , yaxis_title = 'Average Fare'\n",
    "                   , title=dict(x=0.5, xanchor='center'))\n",
    "\n",
    "fig9.show()"
   ]
  },
  {
   "cell_type": "markdown",
   "metadata": {},
   "source": [
    "Vendor 2 has higher average fare in different hour than Vendor 1"
   ]
  },
  {
   "cell_type": "code",
   "execution_count": null,
   "metadata": {},
   "outputs": [],
   "source": [
    "Vendor_tip = df_cleaned.groupby(['VendorID','pickup_hour'])['Tip_amount'].agg(Mean=np.mean).reset_index()"
   ]
  },
  {
   "cell_type": "code",
   "execution_count": null,
   "metadata": {},
   "outputs": [],
   "source": [
    "fig10 = px.line(Vendor_tip\n",
    "               , x='pickup_hour'\n",
    "               , y='Mean'\n",
    "               , title='Average Tip in Hour by different Vendors'\n",
    "               , color = 'VendorID'\n",
    "               , markers=True\n",
    ")\n",
    "\n",
    "fig10.update_layout(xaxis_title = 'Hour of the Day'\n",
    "                    , xaxis=dict(dtick=1)\n",
    "                    , yaxis_title = 'Average Tip Amount'\n",
    "                    , title=dict(x=0.5, xanchor='center'))\n",
    "\n",
    "fig10.show()"
   ]
  },
  {
   "cell_type": "markdown",
   "metadata": {},
   "source": [
    "Vendor 1 has higher average tip amount than Vendor 2"
   ]
  },
  {
   "cell_type": "markdown",
   "metadata": {},
   "source": [
    "- Vendor 2 has higher trip distance in different hour so its average fare is higher\n",
    "- Vendor 1 tends to receive more tip on average than Vendor 2 "
   ]
  },
  {
   "cell_type": "code",
   "execution_count": null,
   "metadata": {},
   "outputs": [],
   "source": []
  },
  {
   "cell_type": "markdown",
   "metadata": {},
   "source": [
    "# NYC area Airports Trips"
   ]
  },
  {
   "cell_type": "markdown",
   "metadata": {},
   "source": [
    "3 airports in New York\n",
    "\n",
    "- LaGuardia Airport, NY, USA (40.776863, -73.874069)\n",
    "- John F. Kennedy International Airport, NY, USA (40.641766, -73.780968)\n",
    "- Newark Liberty International Airport, NY, USA (40.689491, -74.174538)\n",
    "\n",
    "Trips in (and near this co-ordiantes may be treated as NYC area airports)"
   ]
  },
  {
   "cell_type": "code",
   "execution_count": null,
   "metadata": {},
   "outputs": [],
   "source": [
    "# For different pickup and drop off latitude - longitude which are close to airports (co ordinates are taken from google maps)\n",
    "\n",
    "def Near_airport(row):\n",
    "    if (\n",
    "        ((row['Pickup_longitude'] > -73.785837 ) & (row['Pickup_longitude'] <-73.779513 ) &\n",
    "       (row['Pickup_latitude'] > 40.634216) & (row['Pickup_latitude']<40.652198)) |  \n",
    "        (\n",
    "       (row['Dropoff_longitude'] > -73.785837) & (row['Dropoff_longitude'] < -73.779513) &\n",
    "       (row['Dropoff_latitude'] > 40.634216) & (row['Dropoff_latitude']<40.652198)) ):\n",
    "        \n",
    "        return 'JFK'\n",
    "    \n",
    "    if (\n",
    "        ((row['Pickup_longitude'] < -73.86041 ) & (row['Pickup_longitude'] > -73.888391) & \n",
    "       (row['Pickup_latitude'] < 40.766995) & (row['Pickup_latitude']>40.762737)) | \n",
    "        (\n",
    "       (row['Dropoff_longitude'] < -73.86041) & (row['Dropoff_longitude'] > -73.888391) &\n",
    "       (row['Dropoff_latitude'] < 40.766995) & (row['Dropoff_latitude']>40.762737)) ):\n",
    "        \n",
    "        return 'LAG'\n",
    "    \n",
    "    if (\n",
    "        ((row['Pickup_longitude'] < -74.162437) & (row['Pickup_longitude'] > -74.192975) & # long and lat from google maps\n",
    "       (row['Pickup_latitude'] < 40.709331) & (row['Pickup_latitude']>40.681820)) | \n",
    "        (\n",
    "       (row['Dropoff_longitude'] < -74.162437) & (row['Dropoff_longitude'] > -74.192975) &\n",
    "       (row['Dropoff_latitude'] < 40.709331) & (row['Dropoff_latitude']>40.681820)) ):\n",
    "        \n",
    "        return 'KEWR'\n",
    "    else:\n",
    "        return 'NoAir'"
   ]
  },
  {
   "cell_type": "code",
   "execution_count": null,
   "metadata": {},
   "outputs": [],
   "source": [
    "df_cleaned['Near_Airport'] = df_cleaned.apply(Near_airport, axis=1) "
   ]
  },
  {
   "cell_type": "code",
   "execution_count": null,
   "metadata": {},
   "outputs": [],
   "source": [
    "df_cleaned['Near_Airport'].value_counts()"
   ]
  },
  {
   "cell_type": "code",
   "execution_count": null,
   "metadata": {},
   "outputs": [],
   "source": [
    "print('Number of trips Near Airports:',df_cleaned[df_cleaned['Near_Airport']!='NoAir']['Fare_amount'].shape[0])"
   ]
  },
  {
   "cell_type": "code",
   "execution_count": null,
   "metadata": {},
   "outputs": [],
   "source": [
    "df_cleaned[df_cleaned['Near_Airport'] != 'NoAir'][['Fare_amount', 'Trip_distance', 'Total_amount', 'Tip_amount']].agg('mean').reset_index().rename(columns={'index': 'Corresponding Column', 0: 'Mean'})"
   ]
  },
  {
   "cell_type": "code",
   "execution_count": null,
   "metadata": {},
   "outputs": [],
   "source": [
    "df_cleaned[df_cleaned['Near_Airport'] == 'NoAir'][['Fare_amount', 'Trip_distance', 'Total_amount', 'Tip_amount']].agg('mean').reset_index().rename(columns={'index': 'Corresponding Column', 0: 'Mean'})\n"
   ]
  },
  {
   "cell_type": "code",
   "execution_count": null,
   "metadata": {},
   "outputs": [],
   "source": []
  },
  {
   "cell_type": "code",
   "execution_count": null,
   "metadata": {},
   "outputs": [],
   "source": [
    "week_airport_fare = df_cleaned[df_cleaned['Near_Airport'] != 'NoAir'].groupby(['week_day','Near_Airport'])['Fare_amount']\\\n",
    ".agg('mean').reset_index().rename(columns={'week_day': 'Week Day Number','Near_Airport': 'Airport', 'Fare_amount': 'Avg Fare'})\n",
    "\n",
    "# week_airport_fare"
   ]
  },
  {
   "cell_type": "code",
   "execution_count": null,
   "metadata": {},
   "outputs": [],
   "source": [
    "fig11 = px.line(week_airport_fare\n",
    "              , x= 'Week Day Number'\n",
    "              , y= 'Avg Fare'\n",
    "              , title = 'Average Fare towards Airports by different day in Week'\n",
    "              , color= 'Airport'\n",
    "              , markers=True)\n",
    "\n",
    "fig11.update_layout(xaxis_title = 'Day of week'\n",
    "                   , yaxis_title = 'Average Fare'\n",
    "                   , title=dict(x=0.5, xanchor='center'))\n",
    "\n",
    "fig11.show()"
   ]
  },
  {
   "cell_type": "markdown",
   "metadata": {},
   "source": [
    "- There are trip towards LaGuardia Airport and John F. Kennedy International Airport all the day of the week, but on 1st and 6th day of the week no trip towards Newark Liberty International Airport\n",
    "- On average fare towards John F. Kennedy International Airport (JFK) is higher"
   ]
  },
  {
   "cell_type": "code",
   "execution_count": null,
   "metadata": {},
   "outputs": [],
   "source": [
    "hour_airport_fare = df_cleaned[df_cleaned['Near_Airport'] != 'NoAir'].groupby(['pickup_hour','Near_Airport'])['Fare_amount']\\\n",
    ".agg('mean').reset_index().rename(columns={'pickup_hour': 'Pickup Hour','Near_Airport': 'Airport', 'Fare_amount': 'Avg Fare'})\n",
    "\n",
    "# hour_airport_fare"
   ]
  },
  {
   "cell_type": "code",
   "execution_count": null,
   "metadata": {},
   "outputs": [],
   "source": [
    "fig12 = px.line(hour_airport_fare\n",
    "              , x= 'Pickup Hour'\n",
    "              , y= 'Avg Fare'\n",
    "              , title = 'Average Fare towards Airports by different Pickup Hour'\n",
    "              , color= 'Airport'\n",
    "              , markers=True)\n",
    "\n",
    "fig12.update_layout(xaxis_title = 'Pickup Hour'\n",
    "                    , xaxis=dict(dtick=1)\n",
    "                    , yaxis_title = 'Average Fare'\n",
    "                    , title=dict(x=0.5, xanchor='center'))\n",
    "\n",
    "fig12.show()"
   ]
  },
  {
   "cell_type": "markdown",
   "metadata": {},
   "source": [
    "Average fare towards John F. Kennedy International Airport in different pickup hour is higher than others"
   ]
  },
  {
   "cell_type": "markdown",
   "metadata": {},
   "source": [
    "# Dealing Tip Percentage"
   ]
  },
  {
   "cell_type": "code",
   "execution_count": null,
   "metadata": {},
   "outputs": [],
   "source": [
    "df_cleaned['Tip_percentage'] = (df_cleaned['Tip_amount']/df_cleaned['Total_amount'])*100"
   ]
  },
  {
   "cell_type": "code",
   "execution_count": null,
   "metadata": {},
   "outputs": [],
   "source": [
    "wk_pickup_tip_percent = df_cleaned.groupby(['week_day','pickup_hour'])['Tip_percentage'].aggregate(Mean=np.mean).reset_index()\n",
    "\n",
    "# wk_pickup_tip_percent"
   ]
  },
  {
   "cell_type": "code",
   "execution_count": null,
   "metadata": {},
   "outputs": [],
   "source": [
    "fig13 = px.line(wk_pickup_tip_percent\n",
    "                , x='pickup_hour'\n",
    "                , y='Mean'\n",
    "                , title='Average Tip Percentage by Hour on Different Day'\n",
    "                , color='week_day'\n",
    "                , markers=True\n",
    "                , facet_col='week_day'\n",
    "                , facet_col_wrap=7)\n",
    "\n",
    "fig13.update_layout(yaxis_title='Tip Percentage'\n",
    "                    , title=dict(x=0.5, xanchor='center')\n",
    "                    , height=600)\n",
    "\n",
    "fig13.update_xaxes(title_text='Pickup Hour', showticklabels=True)\n",
    "\n",
    "fig13.show()"
   ]
  },
  {
   "cell_type": "markdown",
   "metadata": {},
   "source": [
    "Irrespective to the average value most of the day follow a similar trend of average tip percentage in different hour"
   ]
  },
  {
   "cell_type": "code",
   "execution_count": null,
   "metadata": {},
   "outputs": [],
   "source": [
    "wk_airport_tip_percent = df_cleaned[df_cleaned['Near_Airport'] != 'NoAir'].groupby(['week_day','Near_Airport'])['Tip_percentage'].aggregate(Mean=np.mean).reset_index()\n",
    "\n",
    "# wk_airport_tip_percent"
   ]
  },
  {
   "cell_type": "code",
   "execution_count": null,
   "metadata": {},
   "outputs": [],
   "source": [
    "fig14 = px.line(wk_airport_tip_percent\n",
    "                , x='week_day'\n",
    "                , y='Mean'\n",
    "                , title='Average Tip Percentage towards Airports on Different Day'\n",
    "                , color='Near_Airport'\n",
    "                , markers=True\n",
    "                , facet_col='Near_Airport'\n",
    "                , facet_col_wrap=3\n",
    "                )\n",
    "\n",
    "fig14.update_layout(yaxis_title='Tip Percentage'\n",
    "                    , title=dict(x=0.5, xanchor='center')\n",
    "                    , height=600\n",
    "                    )\n",
    "\n",
    "fig14.update_xaxes(title_text='Weed Day', showticklabels=True)\n",
    "\n",
    "\n",
    "fig14.show()"
   ]
  },
  {
   "cell_type": "markdown",
   "metadata": {},
   "source": [
    "- 2nd day of the week sees the highest tip percentage in trip towards any airports (Newark Liberty International Airport)\n",
    "- Other than 2nd day, John F. Kennedy International Airport has higher average tip percentage "
   ]
  },
  {
   "cell_type": "code",
   "execution_count": null,
   "metadata": {},
   "outputs": [],
   "source": [
    "wk_vendor_tip_percent = df_cleaned.groupby(['week_day','VendorID'])['Tip_percentage'].aggregate(Mean=np.mean).reset_index()\n",
    "\n",
    "# wk_vendor_tip_percent"
   ]
  },
  {
   "cell_type": "code",
   "execution_count": null,
   "metadata": {},
   "outputs": [],
   "source": [
    "fig15 = px.bar(wk_vendor_tip_percent\n",
    "               , x='week_day'\n",
    "               , y='Mean'\n",
    "               , title='Average Tip Percentage of Different Vendors on Different Days'\n",
    "               , color='VendorID'\n",
    "               , facet_col='VendorID'\n",
    "               , facet_col_wrap=2\n",
    "               )\n",
    "\n",
    "fig15.update_layout(yaxis_title='Tip Percentage'\n",
    "                    , title=dict(x=0.5, xanchor='center')\n",
    "                    , height=600\n",
    "                    )\n",
    "\n",
    "fig15.update_xaxes(title_text='Week Day', showticklabels=True)\n",
    "\n",
    "fig15.show()"
   ]
  },
  {
   "cell_type": "markdown",
   "metadata": {},
   "source": [
    "- Both vendors receive maximum average tip percentage of fare at the 5th day of week\n",
    "- Vendor 1 has higher tip percentage in all the day of week than Vendor 2"
   ]
  },
  {
   "cell_type": "markdown",
   "metadata": {},
   "source": [
    "## Predictive Model for Tip percentage"
   ]
  },
  {
   "cell_type": "markdown",
   "metadata": {},
   "source": [
    "### Library and Data Preparation"
   ]
  },
  {
   "cell_type": "code",
   "execution_count": null,
   "metadata": {},
   "outputs": [],
   "source": [
    "from sklearn.linear_model import LinearRegression\n",
    "from sklearn.tree import DecisionTreeRegressor  \n",
    "from sklearn.ensemble import RandomForestRegressor, GradientBoostingRegressor\n",
    "from sklearn.metrics import mean_squared_error\n",
    "from math import sqrt\n",
    "from sklearn.model_selection import train_test_split\n",
    "from sklearn.feature_selection import mutual_info_classif, mutual_info_regression"
   ]
  },
  {
   "cell_type": "code",
   "execution_count": null,
   "metadata": {},
   "outputs": [],
   "source": [
    "# These columns were not vital for model building\n",
    "\n",
    "df_cleaned.drop(['dropoff_hour','Near_Airport','RateCodeID', 'Extra'], axis=True, inplace=True)"
   ]
  },
  {
   "cell_type": "code",
   "execution_count": null,
   "metadata": {},
   "outputs": [],
   "source": [
    "# To deal with time and day I will use derived column pickup_hour and week_day, so removing these two columns\n",
    "\n",
    "df_cleaned.drop(['lpep_pickup_datetime', 'Lpep_dropoff_datetime'], axis=True, inplace=True)"
   ]
  },
  {
   "cell_type": "code",
   "execution_count": null,
   "metadata": {},
   "outputs": [],
   "source": [
    "# Returing back these columns to initial data type, as it will be needed in model fitting\n",
    "\n",
    "df_cleaned[['VendorID', 'Payment_type']] = df_cleaned[['VendorID', 'Payment_type']].astype(int)\n",
    "df_cleaned['Trip_type'] = df_cleaned['Trip_type'].astype(float)"
   ]
  },
  {
   "cell_type": "code",
   "execution_count": null,
   "metadata": {},
   "outputs": [],
   "source": [
    "# Replacing N/Y in the column to make it a field of number value\n",
    "\n",
    "df_cleaned['Store_and_fwd_flag'] = df_cleaned['Store_and_fwd_flag'].replace({'N':0,'Y':1})"
   ]
  },
  {
   "cell_type": "markdown",
   "metadata": {},
   "source": [
    "### Target Variable and Spliting Train and Test Data"
   ]
  },
  {
   "cell_type": "code",
   "execution_count": null,
   "metadata": {},
   "outputs": [],
   "source": [
    "y = df_cleaned['Tip_percentage']"
   ]
  },
  {
   "cell_type": "code",
   "execution_count": null,
   "metadata": {},
   "outputs": [],
   "source": [
    "X = df_cleaned.drop('Tip_percentage',axis=1)"
   ]
  },
  {
   "cell_type": "code",
   "execution_count": null,
   "metadata": {},
   "outputs": [],
   "source": [
    "# Calculating score for finding which feature variable is vital for target variable \n",
    "\n",
    "def mutl_scores(X, y):\n",
    "    mutual_scores = mutual_info_regression(X, y)\n",
    "    mutual_scores = pd.Series(mutual_scores, name=\"MI Scores\", index=X.columns)\n",
    "    mutual_scores = mutual_scores.sort_values(ascending=False)\n",
    "    return mutual_scores\n",
    "\n",
    "mi_scores = mutl_scores(X, y)"
   ]
  },
  {
   "cell_type": "markdown",
   "metadata": {},
   "source": [
    "It takes a while to calculate the mutual relation score"
   ]
  },
  {
   "cell_type": "code",
   "execution_count": null,
   "metadata": {},
   "outputs": [],
   "source": [
    "# mi_scores"
   ]
  },
  {
   "cell_type": "code",
   "execution_count": null,
   "metadata": {},
   "outputs": [],
   "source": [
    "# Removing the feature variable that has very low impact (mi score), threshhold I use is my preference\n",
    "\n",
    "def remove_unrelated(dfrm, mi_scores):\n",
    "    return dfrm.loc[:, mi_scores > 0.005]\n",
    "\n",
    "X=remove_unrelated(X, mi_scores)"
   ]
  },
  {
   "cell_type": "code",
   "execution_count": null,
   "metadata": {},
   "outputs": [],
   "source": []
  },
  {
   "cell_type": "code",
   "execution_count": null,
   "metadata": {},
   "outputs": [],
   "source": [
    "# spliting train and test data. 75% data is in the training data and 25% data in the test data\n",
    "\n",
    "X_train, X_test, y_train, y_test = train_test_split(X,y,test_size=0.25, random_state = 29)"
   ]
  },
  {
   "cell_type": "code",
   "execution_count": null,
   "metadata": {},
   "outputs": [],
   "source": [
    "X_train.shape"
   ]
  },
  {
   "cell_type": "code",
   "execution_count": null,
   "metadata": {},
   "outputs": [],
   "source": [
    "X_test.shape"
   ]
  },
  {
   "cell_type": "markdown",
   "metadata": {},
   "source": [
    "### Machine Learning Algorithm to Build Predictive Model"
   ]
  },
  {
   "cell_type": "markdown",
   "metadata": {},
   "source": [
    "##### Linear Regression"
   ]
  },
  {
   "cell_type": "code",
   "execution_count": null,
   "metadata": {},
   "outputs": [],
   "source": [
    "Model1 = LinearRegression().fit(X_train, y_train)\n",
    "\n",
    "y_pred1=Model1.predict(X_test)\n",
    "\n",
    "Model_mse1 = mean_squared_error(y_test, y_pred1)\n",
    "Model_Rmse1 = sqrt(Model_mse1)"
   ]
  },
  {
   "cell_type": "markdown",
   "metadata": {},
   "source": [
    "#### Decision Tree Regression"
   ]
  },
  {
   "cell_type": "code",
   "execution_count": null,
   "metadata": {},
   "outputs": [],
   "source": [
    "Model2 = DecisionTreeRegressor(random_state = 29).fit(X_train, y_train)\n",
    "\n",
    "y_pred2 = Model2.predict(X_test)\n",
    "\n",
    "Model_mse2 = mean_squared_error(y_test, y_pred2)\n",
    "Model_Rmse2 = sqrt(Model_mse2)"
   ]
  },
  {
   "cell_type": "markdown",
   "metadata": {},
   "source": [
    "#### Random Forest Regression"
   ]
  },
  {
   "cell_type": "code",
   "execution_count": null,
   "metadata": {},
   "outputs": [],
   "source": [
    "Model3 = RandomForestRegressor(n_estimators=10, random_state=29).fit(X_train, y_train)\n",
    "y_pred3 = Model3.predict(X_test)\n",
    "\n",
    "Model_mse3 = mean_squared_error(y_test, y_pred3)\n",
    "Model_Rmse3 = sqrt(Model_mse3)"
   ]
  },
  {
   "cell_type": "markdown",
   "metadata": {},
   "source": [
    "#### Gradient Boosting Regression"
   ]
  },
  {
   "cell_type": "code",
   "execution_count": null,
   "metadata": {},
   "outputs": [],
   "source": [
    "Model4 = GradientBoostingRegressor(n_estimators=10, random_state=29).fit(X_train, y_train)\n",
    "y_pred4 = Model4.predict(X_test)\n",
    "\n",
    "Model_mse4 = mean_squared_error(y_test, y_pred4)\n",
    "Model_Rmse4 = sqrt(Model_mse4)"
   ]
  },
  {
   "cell_type": "markdown",
   "metadata": {},
   "source": [
    "##### Model Comparison"
   ]
  },
  {
   "cell_type": "code",
   "execution_count": null,
   "metadata": {},
   "outputs": [],
   "source": [
    "compare_models = pd.DataFrame(\n",
    "    {  'Model' : ['Linear','Decision Tree','Random Forest','Gradient Boosting'],\n",
    "        'MSE'  : [Model_mse1, Model_mse2,Model_mse3,Model_mse4],\n",
    "        'RMSE' : [Model_Rmse1,Model_Rmse2,Model_Rmse3,Model_Rmse4]\n",
    "    })\n",
    "\n",
    "compare_models"
   ]
  },
  {
   "cell_type": "markdown",
   "metadata": {},
   "source": [
    "Among the model **Random Forest Regression** has lower mean square error and root mean square error value. So this model is suggested to make prediction for trip percentage."
   ]
  }
 ],
 "metadata": {
  "kernelspec": {
   "display_name": "Python 3 (ipykernel)",
   "language": "python",
   "name": "python3"
  },
  "language_info": {
   "codemirror_mode": {
    "name": "ipython",
    "version": 3
   },
   "file_extension": ".py",
   "mimetype": "text/x-python",
   "name": "python",
   "nbconvert_exporter": "python",
   "pygments_lexer": "ipython3",
   "version": "3.9.12"
  }
 },
 "nbformat": 4,
 "nbformat_minor": 2
}
